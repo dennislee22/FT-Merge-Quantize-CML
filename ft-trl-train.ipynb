{
 "cells": [
  {
   "cell_type": "code",
   "execution_count": null,
   "id": "d4e87c27-4e38-457c-937f-f95c2ad70f64",
   "metadata": {},
   "outputs": [],
   "source": [
    "from datasets import load_dataset\n",
    "from random import randrange\n",
    "import torch\n",
    "from transformers import AutoTokenizer, AutoModelForCausalLM, BitsAndBytesConfig, TrainingArguments\n",
    "from peft import LoraConfig, prepare_model_for_kbit_training, get_peft_model, AutoPeftModelForCausalLM\n",
    "from trl import SFTTrainer\n",
    "import mlflow"
   ]
  },
  {
   "cell_type": "code",
   "execution_count": null,
   "id": "952c8054-f623-4c5d-a09e-226c4e6506cb",
   "metadata": {},
   "outputs": [],
   "source": [
    "model_name = \"Salesforce/codegen-350M-multi\"\n",
    "dataset_name = \"Shreyasrp/Text-to-SQL\"\n",
    "split = \"train[:10%]\"\n",
    "finetuned_model_name = \"ft-codegen-350M\"\n",
    "device_map = \"cuda:0\" if torch.cuda.is_available() else \"cpu\"\n",
    "print(device_map)"
   ]
  },
  {
   "cell_type": "code",
   "execution_count": null,
   "id": "3f3095a9-d0db-43d2-85a1-c7a1107da81e",
   "metadata": {},
   "outputs": [],
   "source": [
    "# BitsAndBytesConfig config\n",
    "bnb_config = BitsAndBytesConfig(\n",
    "    load_in_4bit=True,\n",
    "    bnb_4bit_use_double_quant=True,\n",
    "    bnb_4bit_quant_type=\"nf4\",\n",
    "    bnb_4bit_compute_dtype=\"float16\"\n",
    ")\n",
    "\n",
    "peft_config = LoraConfig(\n",
    "      r=16,\n",
    "      lora_alpha=32,\n",
    "      lora_dropout=0.05,\n",
    "      bias=\"none\",\n",
    "      task_type=\"CAUSAL_LM\",\n",
    ")\n",
    "\n",
    "def prompt_instruction_format(sample):\n",
    "  return f\"\"\"### Task:\n",
    "    {sample['instruction']}\n",
    "\n",
    "    ### Response:\n",
    "    {sample['output']}\n",
    "    \"\"\""
   ]
  },
  {
   "cell_type": "code",
   "execution_count": null,
   "id": "d39b254e-d531-42b0-a670-e2ac3f023838",
   "metadata": {},
   "outputs": [],
   "source": [
    "dataset = load_dataset(dataset_name, split=split)"
   ]
  },
  {
   "cell_type": "code",
   "execution_count": null,
   "id": "ee3f90cd-fda8-412d-84c8-64b77bd466aa",
   "metadata": {},
   "outputs": [],
   "source": [
    "base_model = AutoModelForCausalLM.from_pretrained(model_name, quantization_config=bnb_config, use_cache = False, device_map=device_map)\n",
    "base_model.config.pretraining_tp = 1"
   ]
  },
  {
   "cell_type": "code",
   "execution_count": null,
   "id": "bfe9569b-dc2b-45ed-bd80-c4743018af4e",
   "metadata": {},
   "outputs": [],
   "source": [
    "tokenizer = AutoTokenizer.from_pretrained(model_name)\n",
    "tokenizer.pad_token = tokenizer.eos_token\n",
    "#tokenizer.padding_side = \"right\"\n",
    "tokenizer.deprecation_warnings[\"Asking-to-pad-a-fast-tokenizer\"] = True"
   ]
  },
  {
   "cell_type": "code",
   "execution_count": null,
   "id": "4b1a441c-b12c-4ac6-b0bb-bdc74f232eee",
   "metadata": {},
   "outputs": [],
   "source": [
    "# Define the training arguments\n",
    "trainingArgs = TrainingArguments(\n",
    "    output_dir=finetuned_model_name, # Output directory where the model predictions and checkpoints will be stored\n",
    "    num_train_epochs=3, # Number of training epochs\n",
    "    #per_device_train_batch_size=4, # Batch size per GPU for training\n",
    "    auto_find_batch_size=True,\n",
    "    gradient_accumulation_steps=2,  # Number of update steps to accumulate the gradients for\n",
    "    gradient_checkpointing=True,# Enable gradient checkpointing\n",
    "    optim=\"paged_adamw_32bit\", # Optimizer to use\n",
    "    logging_steps=5,\n",
    "    save_strategy=\"epoch\",\n",
    "    learning_rate=2e-4,\n",
    "    #weight_decay=0.001,\n",
    "    fp16=False,\n",
    "    bf16=False,\n",
    "    #max_grad_norm=0.3,\n",
    "    #warmup_ratio=0.03,\n",
    "    group_by_length=False,\n",
    "    lr_scheduler_type=\"cosine\",\n",
    "    disable_tqdm=True,\n",
    "    seed=42\n",
    ")\n",
    "# Create the trainer\n",
    "trainer = SFTTrainer(\n",
    "    model=base_model,\n",
    "    train_dataset=dataset,\n",
    "    peft_config=peft_config,\n",
    "    max_seq_length=2048,\n",
    "    tokenizer=tokenizer,\n",
    "    packing=True,\n",
    "    formatting_func=prompt_instruction_format,\n",
    "    args=trainingArgs,\n",
    ")"
   ]
  },
  {
   "cell_type": "code",
   "execution_count": null,
   "id": "bb31ce3f-912d-43f3-a084-5e15557cef6b",
   "metadata": {},
   "outputs": [],
   "source": [
    "print(\"Start Supervised Fine-Tuning\")\n",
    "mlflow.set_experiment(\"Fine-Tuning codeGen-350M\")\n",
    "trainer.train()\n",
    "print(\"Training Done\")\n",
    "\n",
    "# save model\n",
    "trainer.save_model()\n",
    "print(\"Model Saved\")"
   ]
  },
  {
   "cell_type": "code",
   "execution_count": null,
   "id": "3241d942-e2a3-4b59-8663-6e12be1ebe4d",
   "metadata": {},
   "outputs": [],
   "source": [
    "# load the trained model from the output directory\n",
    "trained_model = AutoPeftModelForCausalLM.from_pretrained(\n",
    "    trainingArgs.output_dir,\n",
    "    return_dict=True,\n",
    "    torch_dtype=torch.float16,\n",
    "    device_map=device_map,\n",
    ")\n",
    "\n",
    "# Merge LoRA with the base model and save the merged model\n",
    "lora_merged_model = trained_model.merge_and_unload()\n",
    "lora_merged_model.save_pretrained(\"merged\",safe_serialization=True)\n",
    "tokenizer.save_pretrained(\"merged\")"
   ]
  },
  {
   "cell_type": "code",
   "execution_count": null,
   "id": "abd0e261-90ae-4702-b49a-14c1e74b5c4f",
   "metadata": {},
   "outputs": [],
   "source": [
    "mytask=\"CREATE TABLE head (age INTEGER), create sql to query How many heads of the departments are older than 56.\"\n",
    "\n",
    "prompt = f\"\"\"\n",
    "# Instruction:\n",
    "Use the Task below to write the Response.\n",
    "# Task:\n",
    "{mytask}\n",
    "# Response:\n",
    "\"\"\"\n",
    "\n",
    "#input_ids = tokenizer(prompt, return_tensors=\"pt\", truncation=True).to(device_map)\n",
    "input_ids = tokenizer.encode(prompt, return_tensors=\"pt\").to(device_map)\n",
    "attention_mask = torch.ones(input_ids.shape, dtype=torch.long).to(device_map)\n",
    "# with torch.inference_mode():\n",
    "\n",
    "print(f\"-------------------------\\n\")\n",
    "print(f\"Prompt:\\n{prompt}\\n\")\n",
    "print(f\"-------------------------\\n\")\n",
    "\n",
    "print(f\"Base Model Response :\\n\")\n",
    "output_base = base_model.generate(input_ids=input_ids, max_new_tokens=500, do_sample=True, top_p=0.9,temperature=0.5,attention_mask=attention_mask)\n",
    "print(f\"{tokenizer.batch_decode(output_base.detach().cpu().numpy(), skip_special_tokens=True)[0][len(prompt):]}\")\n",
    "print(f\"-------------------------\\n\")\n",
    "\n",
    "print(f\"LORA Model Response :\\n\")\n",
    "output_trained_lora = lora_merged_model.generate(input_ids=input_ids, max_new_tokens=500, do_sample=True, top_p=0.9,temperature=0.5,attention_mask=attention_mask)\n",
    "print(f\"{tokenizer.batch_decode(output_trained_lora.detach().cpu().numpy(), skip_special_tokens=True)[0][len(prompt):]}\")\n",
    "print(f\"-------------------------\\n\")"
   ]
  },
  {
   "cell_type": "code",
   "execution_count": null,
   "id": "8af01d18-5459-48c7-9f10-84d4e57c0cdc",
   "metadata": {},
   "outputs": [],
   "source": [
    "import gc\n",
    "\n",
    "# clear the VRAM\n",
    "del base_model\n",
    "del trained_model\n",
    "del lora_merged_model\n",
    "del trainer\n",
    "torch.cuda.empty_cache()\n",
    "gc.collect()"
   ]
  },
  {
   "cell_type": "code",
   "execution_count": null,
   "id": "cfb4124f-b17d-40ec-b942-077bfe34364e",
   "metadata": {},
   "outputs": [],
   "source": [
    "from datasets import load_dataset\n",
    "from random import randrange\n",
    "import torch\n",
    "from transformers import AutoTokenizer, AutoModelForCausalLM, BitsAndBytesConfig, TrainingArguments\n",
    "from peft import LoraConfig, prepare_model_for_kbit_training, get_peft_model, AutoPeftModelForCausalLM\n",
    "from trl import SFTTrainer\n",
    "\n",
    "device_map = \"cuda:0\" if torch.cuda.is_available() else \"cpu\"\n",
    "print(device_map)\n",
    "\n",
    "loaded_models = {}\n",
    "mymodel1 = \"merged\"\n",
    "tokenizer = AutoTokenizer.from_pretrained(mymodel1,torch_dtype=torch.bfloat16,device_map=\"auto\")\n",
    "model = AutoModelForCausalLM.from_pretrained(mymodel1,torch_dtype=torch.bfloat16,device_map=\"auto\")\n",
    "loaded_models[mymodel1] = {\"tokenizer\": tokenizer, \"model\": model}\n",
    "tokenizer1 = loaded_models[mymodel1][\"tokenizer\"]\n",
    "base_model = loaded_models[mymodel1][\"model\"]\n",
    "\n",
    "loaded_models = {}\n",
    "mymodel2 = \"codegen-350M-multi\"\n",
    "tokenizer = AutoTokenizer.from_pretrained(mymodel2,torch_dtype=torch.bfloat16,device_map=\"auto\")\n",
    "model = AutoModelForCausalLM.from_pretrained(mymodel2,torch_dtype=torch.bfloat16,device_map=\"auto\")\n",
    "loaded_models[mymodel2] = {\"tokenizer\": tokenizer, \"model\": model}\n",
    "tokenizer2 = loaded_models[mymodel2][\"tokenizer\"]\n",
    "lora_merged_model = loaded_models[mymodel2][\"model\"]"
   ]
  },
  {
   "cell_type": "code",
   "execution_count": null,
   "id": "1995eacc-f93b-46de-8ba1-dd28c0a0db25",
   "metadata": {},
   "outputs": [],
   "source": [
    "mytask=\"CREATE TABLE head (age INTEGER), create sql to query How many heads of the departments are older than 56.\"\n",
    "prompt = f\"\"\"\n",
    "# Instruction:\n",
    "Use the Task below to write the Response.\n",
    "# Task:\n",
    "{mytask}\n",
    "# Response:\n",
    "\"\"\"\n",
    "\n",
    "#input_ids = tokenizer(prompt, return_tensors=\"pt\", truncation=True).to(device_map)\n",
    "input_ids = tokenizer.encode(prompt, return_tensors=\"pt\").to(device_map)\n",
    "#input_ids = tokenizer.encode(mytask, return_tensors=\"pt\").to(device_map)\n",
    "attention_mask = torch.ones(input_ids.shape, dtype=torch.long).to(device_map)\n",
    "# with torch.inference_mode():\n",
    "\n",
    "print(f\"-------------------------\\n\")\n",
    "print(f\"Prompt:\\n{prompt}\\n\")\n",
    "print(f\"-------------------------\\n\")\n",
    "\n",
    "print(f\"merged Model Response :\\n\")\n",
    "output_base = base_model.generate(input_ids=input_ids, max_new_tokens=500, do_sample=True, top_p=0.9,temperature=0.5,attention_mask=attention_mask)\n",
    "print(f\"{tokenizer1.batch_decode(output_base.detach().cpu().numpy(), skip_special_tokens=True)[0][len(prompt):]}\")\n",
    "print(f\"-------------------------\\n\")\n",
    "\n",
    "print(f\"codegen-350m Model Response :\\n\")\n",
    "output_trained_lora = lora_merged_model.generate(input_ids=input_ids, max_new_tokens=500, do_sample=True, top_p=0.9,temperature=0.5,attention_mask=attention_mask)\n",
    "print(f\"{tokenizer2.batch_decode(output_trained_lora.detach().cpu().numpy(), skip_special_tokens=True)[0][len(prompt):]}\")\n",
    "print(f\"-------------------------\\n\")"
   ]
  },
  {
   "cell_type": "code",
   "execution_count": null,
   "id": "a33c143b-1e83-4364-8bf4-36fa04f24a07",
   "metadata": {},
   "outputs": [],
   "source": []
  },
  {
   "cell_type": "code",
   "execution_count": null,
   "id": "9439f1fa-b06e-4dab-8015-f6cad2c5231b",
   "metadata": {},
   "outputs": [],
   "source": []
  }
 ],
 "metadata": {
  "kernelspec": {
   "display_name": "Python 3 (ipykernel)",
   "language": "python",
   "name": "python3"
  },
  "language_info": {
   "codemirror_mode": {
    "name": "ipython",
    "version": 3
   },
   "file_extension": ".py",
   "mimetype": "text/x-python",
   "name": "python",
   "nbconvert_exporter": "python",
   "pygments_lexer": "ipython3",
   "version": "3.9.11"
  }
 },
 "nbformat": 4,
 "nbformat_minor": 5
}
