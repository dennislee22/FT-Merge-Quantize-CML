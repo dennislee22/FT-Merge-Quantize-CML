{
 "cells": [
  {
   "cell_type": "code",
   "execution_count": null,
   "id": "d4e87c27-4e38-457c-937f-f95c2ad70f64",
   "metadata": {},
   "outputs": [],
   "source": [
    "from datasets import load_dataset\n",
    "from random import randrange\n",
    "import torch\n",
    "from transformers import AutoTokenizer, AutoModelForCausalLM, BitsAndBytesConfig, TrainingArguments\n",
    "from peft import LoraConfig, prepare_model_for_kbit_training, get_peft_model, AutoPeftModelForCausalLM\n",
    "from trl import SFTTrainer\n",
    "import mlflow\n",
    "import shutil\n",
    "from os.path import dirname"
   ]
  },
  {
   "cell_type": "code",
   "execution_count": null,
   "id": "952c8054-f623-4c5d-a09e-226c4e6506cb",
   "metadata": {},
   "outputs": [],
   "source": [
    "def remove_dir(dir_path):\n",
    "    try:\n",
    "        shutil.rmtree(dir_path)\n",
    "        print(f\"Folder '{dir_path}' has been deleted.\")\n",
    "    except Exception as e:\n",
    "        # Ignore errors, you can print a message if needed\n",
    "        print(f\"Folder '{dir_path}' has been deleted.\")\n",
    "\n",
    "base_model = \"bloom-1b1\"\n",
    "base_model_name = \"bloom-1b1\"\n",
    "merged_model = \"merged_ft_model\"\n",
    "training_output = \"training_output\" # stores the checkpoints\n",
    "#dataset_name = \"Shreyasrp/Text-to-SQL\"\n",
    "dataset_name = \"text-to-sql_dataset\"\n",
    "split = \"train[:10%]\"\n",
    "device_map = \"cuda:0\" if torch.cuda.is_available() else \"cpu\"\n",
    "print(f\"Device to be used is {device_map}\")\n",
    "print(f\"--------------------------------------\\n\")\n",
    "# Remove the model folders if exist\n",
    "remove_dir(training_output) \n",
    "remove_dir(merged_model)"
   ]
  },
  {
   "cell_type": "code",
   "execution_count": null,
   "id": "3f3095a9-d0db-43d2-85a1-c7a1107da81e",
   "metadata": {},
   "outputs": [],
   "source": [
    "# BitsAndBytesConfig config\n",
    "#bnb_config = BitsAndBytesConfig(\n",
    "#    load_in_4bit=True,\n",
    "#    bnb_4bit_use_double_quant=True,\n",
    "#    bnb_4bit_quant_type=\"nf4\",\n",
    "#    bnb_4bit_compute_dtype=\"float16\"\n",
    "#)\n",
    "\n",
    "bnb_config = BitsAndBytesConfig(\n",
    "    load_in_8bit=True,\n",
    ")\n",
    "\n",
    "peft_config = LoraConfig(\n",
    "      r=16,\n",
    "      lora_alpha=32,\n",
    "      lora_dropout=0.05,\n",
    "      bias=\"none\",\n",
    "      task_type=\"CAUSAL_LM\",\n",
    ")\n",
    "\n",
    "def prompt_instruction_format(sample):\n",
    "  return f\"\"\"Context:\n",
    "    {sample['instruction']}\n",
    "\n",
    "    Result:\n",
    "    {sample['output']}\n",
    "    \"\"\""
   ]
  },
  {
   "cell_type": "code",
   "execution_count": null,
   "id": "d39b254e-d531-42b0-a670-e2ac3f023838",
   "metadata": {},
   "outputs": [],
   "source": [
    "dataset = load_dataset(dataset_name, split=split)"
   ]
  },
  {
   "cell_type": "code",
   "execution_count": null,
   "id": "2ea7aeee-cb37-4694-8755-82b709e6a8da",
   "metadata": {},
   "outputs": [],
   "source": [
    "#base_model = AutoModelForCausalLM.from_pretrained(base_model, quantization_config=bnb_config, use_cache = False, device_map=device_map)\n",
    "base_model = AutoModelForCausalLM.from_pretrained(base_model, use_cache = False, device_map=device_map)"
   ]
  },
  {
   "cell_type": "code",
   "execution_count": null,
   "id": "84d27b68-be0c-4490-9ee1-9aaff4a10de8",
   "metadata": {},
   "outputs": [],
   "source": [
    "def print_param_precision(model):\n",
    "  dtypes = {}\n",
    "  for _, p in model.named_parameters():\n",
    "      dtype = p.dtype\n",
    "      if dtype not in dtypes:\n",
    "          dtypes[dtype] = 0\n",
    "      dtypes[dtype] += p.numel()\n",
    "  total = 0\n",
    "  for k, v in dtypes.items():\n",
    "      total += v\n",
    "  for k, v in dtypes.items():\n",
    "      print(f\"{k}, {v / 10**6:.4f} M, {v / total*100:.2f} %\")\n",
    "\n",
    "def print_trainable_parameters(model):\n",
    "  # Count the total parameters\n",
    "  total_params = sum(p.numel() for p in model.parameters())\n",
    "  print(f\"Total parameters: {total_params/10**6:.4f} M\")\n",
    "\n",
    "  # Count the trainable parameters\n",
    "  trainable_params = sum(p.numel() for p in model.parameters() if p.requires_grad)\n",
    "  print(f\"Trainable parameters: {trainable_params/10**6:.4f} M\")\n",
    "    "
   ]
  },
  {
   "cell_type": "code",
   "execution_count": null,
   "id": "7dd5332e-681a-4860-9942-db4f8af3ea06",
   "metadata": {},
   "outputs": [],
   "source": [
    "device = \"cuda:0\" if torch.cuda.is_available() else \"cpu\"\n",
    "print(f\"{device} Memory Used: {base_model.get_memory_footprint() / 1024**2:.4f} MB\")\n",
    "print(f\"--------------------------------------\\n\")\n",
    "print(f\"Parameters loaded for model {base_model_name}:\")\n",
    "print_trainable_parameters(base_model)\n",
    "print(\"\\n\")\n",
    "print(f\"Data types for loaded model {base_model_name}:\")\n",
    "print_param_precision(base_model)\n",
    "\n",
    "#for name, param in base_model.named_parameters():\n",
    "#    print(f\"Parameter name: {name}, Data type: {param.dtype}\")"
   ]
  },
  {
   "cell_type": "code",
   "execution_count": null,
   "id": "55a55bd5-dffa-43a1-ad03-973912832aae",
   "metadata": {},
   "outputs": [],
   "source": [
    "tokenizer = AutoTokenizer.from_pretrained(base_model_name)\n",
    "tokenizer.pad_token = tokenizer.eos_token\n",
    "tokenizer.padding_side = 'right'\n",
    "tokenizer.deprecation_warnings[\"Asking-to-pad-a-fast-tokenizer\"] = True"
   ]
  },
  {
   "cell_type": "code",
   "execution_count": null,
   "id": "4b1a441c-b12c-4ac6-b0bb-bdc74f232eee",
   "metadata": {},
   "outputs": [],
   "source": [
    "trainingArgs = TrainingArguments(\n",
    "    output_dir=training_output,\n",
    "    num_train_epochs=3,\n",
    "    #per_device_train_batch_size=4,\n",
    "    auto_find_batch_size=True,\n",
    "    #gradient_checkpointing=True, # When enabled, memory can be freed at the cost of small decrease in the training speed due to recomputing parts of the graph during back-propagation.\n",
    "    #gradient_accumulation_steps=2,\n",
    "    #optim=\"paged_adamw_32bit\",\n",
    "    #optim=\"paged_adamw_8bit\",\n",
    "    logging_steps=5,\n",
    "    save_strategy=\"epoch\",\n",
    "    learning_rate=2e-4,\n",
    "    #fp16=False,\n",
    "    #bf16=False,\n",
    "    #lr_scheduler_type=\"cosine\",\n",
    "    disable_tqdm=True\n",
    ")\n",
    "\n",
    "trainer = SFTTrainer(\n",
    "    model=base_model,\n",
    "    train_dataset=dataset,\n",
    "    peft_config=peft_config,\n",
    "    max_seq_length=2048,\n",
    "    tokenizer=tokenizer,\n",
    "    packing=True,\n",
    "    formatting_func=prompt_instruction_format,\n",
    "    args=trainingArgs,\n",
    ")"
   ]
  },
  {
   "cell_type": "code",
   "execution_count": null,
   "id": "fe152905-ae4e-4bde-82f5-d9283c089651",
   "metadata": {},
   "outputs": [],
   "source": [
    "print(\"Start Fine-Tuning\")\n",
    "mlflow.set_experiment(\"Fine-Tune TRL\")\n",
    "trainer.train()\n",
    "print(\"Training Done\")"
   ]
  },
  {
   "cell_type": "code",
   "execution_count": null,
   "id": "4606bc87-0c5c-4d1a-a055-36de4662d4bf",
   "metadata": {},
   "outputs": [],
   "source": [
    "trainer.save_model() # adapter models\n",
    "print(\"Model Saved\")"
   ]
  },
  {
   "cell_type": "code",
   "execution_count": null,
   "id": "bb02abf4-310a-47c5-bb8c-2a308a313770",
   "metadata": {},
   "outputs": [],
   "source": [
    "trained_model = AutoPeftModelForCausalLM.from_pretrained(\n",
    "    trainingArgs.output_dir,\n",
    "    return_dict=True,\n",
    "    device_map=device_map\n",
    ")\n",
    "\n",
    "# Merge LoRA adapter with the base model and save the merged model\n",
    "lora_merged_model = trained_model.merge_and_unload()\n",
    "lora_merged_model.save_pretrained(merged_model)\n",
    "tokenizer.save_pretrained(merged_model)"
   ]
  },
  {
   "cell_type": "code",
   "execution_count": null,
   "id": "58fae927-3d1f-45f6-89c0-84230258d7a3",
   "metadata": {},
   "outputs": [],
   "source": [
    "# Reset the iPython kernel before running the following test."
   ]
  },
  {
   "cell_type": "code",
   "execution_count": 1,
   "id": "99066c54-da31-41fe-bb34-69d8b529a5d2",
   "metadata": {},
   "outputs": [],
   "source": [
    "import torch\n",
    "from transformers import AutoTokenizer, AutoModelForCausalLM\n",
    "\n",
    "def print_param_precision(model):\n",
    "  dtypes = {}\n",
    "  for _, p in model.named_parameters():\n",
    "      dtype = p.dtype\n",
    "      if dtype not in dtypes:\n",
    "          dtypes[dtype] = 0\n",
    "      dtypes[dtype] += p.numel()\n",
    "  total = 0\n",
    "  for k, v in dtypes.items():\n",
    "      total += v\n",
    "  for k, v in dtypes.items():\n",
    "      print(f\"{k}, {v / 10**6:.4f} M, {v / total*100:.2f} %\")\n",
    "\n",
    "def print_trainable_parameters(model):\n",
    "  # Count the total parameters\n",
    "  total_params = sum(p.numel() for p in model.parameters())\n",
    "  print(f\"Total parameters: {total_params/10**6:.4f} M\")\n",
    "\n",
    "  # Count the trainable parameters\n",
    "  trainable_params = sum(p.numel() for p in model.parameters() if p.requires_grad)\n",
    "  print(f\"Trainable parameters: {trainable_params/10**6:.4f} M\")\n",
    "    "
   ]
  },
  {
   "cell_type": "code",
   "execution_count": 1,
   "id": "1f44e6ea-5965-4afc-9771-a8bb053da0b8",
   "metadata": {},
   "outputs": [
    {
     "name": "stdout",
     "output_type": "stream",
     "text": [
      "cuda:0 Memory Used: 4063.8516 MB\n",
      "\n",
      "Parameters:\n",
      "Total parameters: 1065.3143 M\n",
      "Trainable parameters: 1065.3143 M\n",
      "\n",
      "Data types:\n",
      "torch.float32, 1065.3143 M, 100.00 %\n"
     ]
    }
   ],
   "source": [
    "merged_model = \"merged_ft_model\"\n",
    "device_map = \"cuda:0\" if torch.cuda.is_available() else \"cpu\"\n",
    "model_new = AutoModelForCausalLM.from_pretrained(merged_model, device_map=\"auto\")\n",
    "\n",
    "print(f\"{device_map} Memory Used: {model_new.get_memory_footprint() / 1024**2:.4f} MB\")\n",
    "print(\"\\nParameters:\")\n",
    "print_trainable_parameters(model_new)\n",
    "print(\"\\nData types:\")\n",
    "print_param_precision(model_new)"
   ]
  },
  {
   "cell_type": "code",
   "execution_count": 3,
   "id": "3241d942-e2a3-4b59-8663-6e12be1ebe4d",
   "metadata": {},
   "outputs": [
    {
     "name": "stdout",
     "output_type": "stream",
     "text": [
      "cuda:0 Memory Used: 4063.8516 MB\n",
      "\n",
      "Parameters:\n",
      "Total parameters: 1065.3143 M\n",
      "Trainable parameters: 1065.3143 M\n",
      "\n",
      "Data types:\n",
      "torch.float32, 1065.3143 M, 100.00 %\n"
     ]
    }
   ],
   "source": [
    "base_model = \"bloom-1b1\"\n",
    "device_map = \"cuda:0\" if torch.cuda.is_available() else \"cpu\"\n",
    "old_model = AutoModelForCausalLM.from_pretrained(merged_model, device_map=\"auto\")\n",
    "\n",
    "print(f\"{device_map} Memory Used: {old_model.get_memory_footprint() / 1024**2:.4f} MB\")\n",
    "print(\"\\nParameters:\")\n",
    "print_trainable_parameters(old_model)\n",
    "print(\"\\nData types:\")\n",
    "print_param_precision(old_model)"
   ]
  },
  {
   "cell_type": "code",
   "execution_count": 4,
   "id": "cfb4124f-b17d-40ec-b942-077bfe34364e",
   "metadata": {},
   "outputs": [],
   "source": [
    "#ft_tokenizer = AutoTokenizer.from_pretrained(merged_model,torch_dtype=torch.bfloat16,device_map=device_map)\n",
    "#ft_model = AutoModelForCausalLM.from_pretrained(merged_model,torch_dtype=torch.bfloat16,device_map=device_map)\n",
    "ft_tokenizer = AutoTokenizer.from_pretrained(merged_model,device_map=device_map)\n",
    "ft_model = AutoModelForCausalLM.from_pretrained(merged_model,device_map=device_map)\n",
    "#loaded_models[mymodel1] = {\"tokenizer\": tokenizer1, \"model\": model1}\n",
    "#tokenizer1 = loaded_models[mymodel1][\"tokenizer\"]\n",
    "#base_model = loaded_models[mymodel1][\"model\"]\n",
    "\n",
    "#loaded_models = {}\n",
    "base_tokenizer = AutoTokenizer.from_pretrained(base_model,device_map=device_map)\n",
    "base_model = AutoModelForCausalLM.from_pretrained(base_model,device_map=device_map)\n",
    "#base_tokenizer = AutoTokenizer.from_pretrained(base_model,torch_dtype=torch.bfloat16,device_map=device_map)\n",
    "#base_model = AutoModelForCausalLM.from_pretrained(base_model,torch_dtype=torch.bfloat16,device_map=device_map)\n",
    "#loaded_models[mymodel2] = {\"tokenizer\": tokenizer, \"model\": model}\n",
    "#tokenizer2 = loaded_models[mymodel2][\"tokenizer\"]\n",
    "#lora_merged_model = loaded_models[mymodel2][\"model\"]"
   ]
  },
  {
   "cell_type": "code",
   "execution_count": 5,
   "id": "1995eacc-f93b-46de-8ba1-dd28c0a0db25",
   "metadata": {},
   "outputs": [
    {
     "name": "stdout",
     "output_type": "stream",
     "text": [
      "--------------------------------------\n",
      "\n",
      "Prompt:\n",
      "\n",
      "# Instruction:\n",
      "Use the context below to produce the result\n",
      "# context:\n",
      "CREATE TABLE trip (bus_stop VARCHAR, duration INTEGER), list all the bus stops from which a trip of duration below 100 started.\n",
      "# result:\n",
      "\n",
      "\n",
      "--------------------------------------\n",
      "\n",
      "Fine-tuned Model Result :\n",
      "\n",
      "SELECT bus_stop FROM trip WHERE duration < 100\n",
      "    \n",
      "--------------------------------------\n",
      "\n",
      "Base Model Result :\n",
      "\n",
      "CREATE TABLE trip (bus_stop VARCHAR, duration INTEGER), list all the bus stops from which a trip of duration below 100 started.\n",
      "# context:\n",
      "CREATE TABLE trip (bus_stop VARCHAR, duration INTEGER), list all the bus stops from which a trip of duration below 100 started.\n",
      "# result:\n",
      "CREATE TABLE trip (bus_stop VARCHAR, duration INTEGER), list all the bus stops from which a trip of duration below 100 started.\n",
      "# context:\n",
      "CREATE TABLE trip (bus_stop VARCHAR, duration INTEGER), list all\n"
     ]
    }
   ],
   "source": [
    "mytask=\"CREATE TABLE trip (bus_stop VARCHAR, duration INTEGER), list all the bus stops from which a trip of duration below 100 started.\"\n",
    "prompt = f\"\"\"\n",
    "# Instruction:\n",
    "Use the context below to produce the result\n",
    "# context:\n",
    "{mytask}\n",
    "# result:\n",
    "\"\"\"\n",
    "\n",
    "input_id1 = ft_tokenizer.encode(prompt, return_tensors=\"pt\").to(device_map)\n",
    "input_id2 = base_tokenizer.encode(prompt, return_tensors=\"pt\").to(device_map)\n",
    "attention_mask1 = torch.ones(input_id1.shape, dtype=torch.long).to(device_map)\n",
    "attention_mask2 = torch.ones(input_id2.shape, dtype=torch.long).to(device_map)\n",
    "print(f\"--------------------------------------\\n\")\n",
    "print(f\"Prompt:\\n{prompt}\\n\")\n",
    "print(f\"--------------------------------------\\n\")\n",
    "\n",
    "print(f\"Fine-tuned Model Result :\\n\")\n",
    "output_base = ft_model.generate(input_ids=input_id1, do_sample=True, max_new_tokens=100, top_p=0.9,temperature=0.5,attention_mask=attention_mask1)\n",
    "print(f\"{ft_tokenizer.batch_decode(output_base.detach().cpu().numpy(), skip_special_tokens=True)[0][len(prompt):]}\")\n",
    "print(f\"--------------------------------------\\n\")\n",
    "\n",
    "print(f\"Base Model Result :\\n\")\n",
    "output_ft = base_model.generate(input_ids=input_id2, do_sample=True, max_new_tokens=100, top_p=0.9,temperature=0.5,attention_mask=attention_mask2)\n",
    "print(f\"{base_tokenizer.batch_decode(output_ft.detach().cpu().numpy(), skip_special_tokens=True)[0][len(prompt):]}\")"
   ]
  },
  {
   "cell_type": "code",
   "execution_count": null,
   "id": "01fdf275-bce5-40bf-ba15-efb39ddf8e20",
   "metadata": {},
   "outputs": [],
   "source": []
  }
 ],
 "metadata": {
  "kernelspec": {
   "display_name": "Python 3 (ipykernel)",
   "language": "python",
   "name": "python3"
  },
  "language_info": {
   "codemirror_mode": {
    "name": "ipython",
    "version": 3
   },
   "file_extension": ".py",
   "mimetype": "text/x-python",
   "name": "python",
   "nbconvert_exporter": "python",
   "pygments_lexer": "ipython3",
   "version": "3.9.11"
  }
 },
 "nbformat": 4,
 "nbformat_minor": 5
}
