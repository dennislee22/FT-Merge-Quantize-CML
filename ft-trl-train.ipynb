{
 "cells": [
  {
   "cell_type": "code",
   "execution_count": 1,
   "id": "d4e87c27-4e38-457c-937f-f95c2ad70f64",
   "metadata": {},
   "outputs": [],
   "source": [
    "from datasets import load_dataset\n",
    "from random import randrange\n",
    "import torch\n",
    "from transformers import AutoTokenizer, AutoModelForCausalLM, BitsAndBytesConfig, TrainingArguments\n",
    "from peft import LoraConfig, prepare_model_for_kbit_training, get_peft_model, AutoPeftModelForCausalLM\n",
    "from trl import SFTTrainer\n",
    "import mlflow\n",
    "import shutil\n",
    "from os.path import dirname"
   ]
  },
  {
   "cell_type": "code",
   "execution_count": 2,
   "id": "952c8054-f623-4c5d-a09e-226c4e6506cb",
   "metadata": {},
   "outputs": [
    {
     "name": "stdout",
     "output_type": "stream",
     "text": [
      "Device to be used is cuda:0\n",
      "--------------------------------------\n",
      "\n",
      "Folder 'training_output' has been deleted.\n",
      "Folder 'merged_ft_model' has been deleted.\n"
     ]
    }
   ],
   "source": [
    "def remove_dir(dir_path):\n",
    "    try:\n",
    "        shutil.rmtree(dir_path)\n",
    "        print(f\"Folder '{dir_path}' has been deleted.\")\n",
    "    except Exception as e:\n",
    "        # Ignore errors, you can print a message if needed\n",
    "        print(f\"Folder '{dir_path}' has been deleted.\")\n",
    "\n",
    "#base_model = \"codegen-350M-multi\" #Remember to apply this value in the argument parameter of tokenizer, to use local folder instead of attempting to download from HF\n",
    "base_model = \"codegen-350M-multi\"\n",
    "base_model_name = \"codegen-350M-multi\"\n",
    "merged_model = \"merged_ft_model\"\n",
    "training_output = \"training_output\" # stores the checkpoints\n",
    "#dataset_name = \"Shreyasrp/Text-to-SQL\"\n",
    "dataset_name = \"text-to-sql_dataset\"\n",
    "split = \"train[:10%]\"\n",
    "device_map = \"cuda:0\" if torch.cuda.is_available() else \"cpu\"\n",
    "print(f\"Device to be used is {device_map}\")\n",
    "print(f\"--------------------------------------\\n\")\n",
    "# Remove the model folders if exist\n",
    "remove_dir(training_output) \n",
    "remove_dir(merged_model)"
   ]
  },
  {
   "cell_type": "code",
   "execution_count": 3,
   "id": "3f3095a9-d0db-43d2-85a1-c7a1107da81e",
   "metadata": {},
   "outputs": [],
   "source": [
    "# BitsAndBytesConfig config\n",
    "#bnb_config = BitsAndBytesConfig(\n",
    "#    load_in_4bit=True,\n",
    "#    bnb_4bit_use_double_quant=True,\n",
    "#    bnb_4bit_quant_type=\"nf4\",\n",
    "#    bnb_4bit_compute_dtype=\"float16\"\n",
    "#)\n",
    "\n",
    "bnb_config = BitsAndBytesConfig(\n",
    "    load_in_8bit=True,\n",
    ")\n",
    "\n",
    "peft_config = LoraConfig(\n",
    "      r=16,\n",
    "      lora_alpha=32,\n",
    "      lora_dropout=0.05,\n",
    "      bias=\"none\",\n",
    "      task_type=\"CAUSAL_LM\",\n",
    ")\n",
    "\n",
    "def prompt_instruction_format(sample):\n",
    "  return f\"\"\"Context:\n",
    "    {sample['instruction']}\n",
    "\n",
    "    Result:\n",
    "    {sample['output']}\n",
    "    \"\"\""
   ]
  },
  {
   "cell_type": "code",
   "execution_count": 4,
   "id": "d39b254e-d531-42b0-a670-e2ac3f023838",
   "metadata": {},
   "outputs": [],
   "source": [
    "dataset = load_dataset(dataset_name, split=split)"
   ]
  },
  {
   "cell_type": "code",
   "execution_count": 5,
   "id": "2ea7aeee-cb37-4694-8755-82b709e6a8da",
   "metadata": {},
   "outputs": [],
   "source": [
    "#base_model = AutoModelForCausalLM.from_pretrained(base_model, quantization_config=bnb_config, use_cache = False, device_map=device_map)\n",
    "base_model = AutoModelForCausalLM.from_pretrained(base_model, use_cache = False, device_map=device_map)"
   ]
  },
  {
   "cell_type": "code",
   "execution_count": 6,
   "id": "84d27b68-be0c-4490-9ee1-9aaff4a10de8",
   "metadata": {},
   "outputs": [],
   "source": [
    "def print_param_precision(model):\n",
    "  dtypes = {}\n",
    "  for _, p in model.named_parameters():\n",
    "      dtype = p.dtype\n",
    "      if dtype not in dtypes:\n",
    "          dtypes[dtype] = 0\n",
    "      dtypes[dtype] += p.numel()\n",
    "  total = 0\n",
    "  for k, v in dtypes.items():\n",
    "      total += v\n",
    "  for k, v in dtypes.items():\n",
    "      print(f\"{k}, {v / 10**6:.4f} M, {v / total*100:.2f} %\")\n",
    "\n",
    "def print_trainable_parameters(model):\n",
    "  # Count the total parameters\n",
    "  total_params = sum(p.numel() for p in model.parameters())\n",
    "  print(f\"Total parameters: {total_params/10**6:.4f} M\")\n",
    "\n",
    "  # Count the trainable parameters\n",
    "  trainable_params = sum(p.numel() for p in model.parameters() if p.requires_grad)\n",
    "  print(f\"Trainable parameters: {trainable_params/10**6:.4f} M\")\n",
    "    "
   ]
  },
  {
   "cell_type": "code",
   "execution_count": 7,
   "id": "7dd5332e-681a-4860-9942-db4f8af3ea06",
   "metadata": {},
   "outputs": [
    {
     "name": "stdout",
     "output_type": "stream",
     "text": [
      "cuda:0 Memory Used: 1440.7500 MB\n",
      "--------------------------------------\n",
      "\n",
      "Parameters loaded for model codegen-350M-multi:\n",
      "Total parameters: 356.7124 M\n",
      "Trainable parameters: 356.7124 M\n",
      "\n",
      "\n",
      "Data types for loaded model codegen-350M-multi:\n",
      "torch.float32, 356.7124 M, 100.00 %\n"
     ]
    }
   ],
   "source": [
    "device = \"cuda:0\" if torch.cuda.is_available() else \"cpu\"\n",
    "print(f\"{device} Memory Used: {base_model.get_memory_footprint() / 1024**2:.4f} MB\")\n",
    "print(f\"--------------------------------------\\n\")\n",
    "print(f\"Parameters loaded for model {base_model_name}:\")\n",
    "print_trainable_parameters(base_model)\n",
    "print(\"\\n\")\n",
    "print(f\"Data types for loaded model {base_model_name}:\")\n",
    "print_param_precision(base_model)\n",
    "\n",
    "#for name, param in base_model.named_parameters():\n",
    "#    print(f\"Parameter name: {name}, Data type: {param.dtype}\")"
   ]
  },
  {
   "cell_type": "code",
   "execution_count": 8,
   "id": "55a55bd5-dffa-43a1-ad03-973912832aae",
   "metadata": {},
   "outputs": [
    {
     "name": "stderr",
     "output_type": "stream",
     "text": [
      "Special tokens have been added in the vocabulary, make sure the associated word embeddings are fine-tuned or trained.\n"
     ]
    }
   ],
   "source": [
    "tokenizer = AutoTokenizer.from_pretrained(base_model_name)\n",
    "tokenizer.pad_token = tokenizer.eos_token\n",
    "tokenizer.padding_side = 'right'\n",
    "tokenizer.deprecation_warnings[\"Asking-to-pad-a-fast-tokenizer\"] = True"
   ]
  },
  {
   "cell_type": "code",
   "execution_count": 12,
   "id": "4b1a441c-b12c-4ac6-b0bb-bdc74f232eee",
   "metadata": {},
   "outputs": [
    {
     "name": "stderr",
     "output_type": "stream",
     "text": [
      "Detected kernel version 4.18.0, which is below the recommended minimum of 5.5.0; this can cause the process to hang. It is recommended to upgrade the kernel to the minimum version or higher.\n"
     ]
    }
   ],
   "source": [
    "trainingArgs = TrainingArguments(\n",
    "    output_dir=training_output,\n",
    "    num_train_epochs=3,\n",
    "    #per_device_train_batch_size=4,\n",
    "    auto_find_batch_size=True,\n",
    "    #gradient_checkpointing=True, # When enabled, memory can be freed at the cost of small decrease in the training speed due to recomputing parts of the graph during back-propagation.\n",
    "    #gradient_accumulation_steps=2,\n",
    "    #optim=\"paged_adamw_32bit\",\n",
    "    #optim=\"paged_adamw_8bit\",\n",
    "    logging_steps=5,\n",
    "    save_strategy=\"epoch\",\n",
    "    learning_rate=2e-4,\n",
    "    #fp16=False,\n",
    "    #bf16=False,\n",
    "    #lr_scheduler_type=\"cosine\",\n",
    "    disable_tqdm=True\n",
    ")\n",
    "\n",
    "trainer = SFTTrainer(\n",
    "    model=base_model,\n",
    "    train_dataset=dataset,\n",
    "    peft_config=peft_config,\n",
    "    max_seq_length=2048,\n",
    "    tokenizer=tokenizer,\n",
    "    packing=True,\n",
    "    formatting_func=prompt_instruction_format,\n",
    "    args=trainingArgs,\n",
    ")"
   ]
  },
  {
   "cell_type": "code",
   "execution_count": 13,
   "id": "fe152905-ae4e-4bde-82f5-d9283c089651",
   "metadata": {},
   "outputs": [
    {
     "name": "stdout",
     "output_type": "stream",
     "text": [
      "Start Fine-Tuning\n",
      "{'loss': 1.4677, 'learning_rate': 0.0001996609020006782, 'epoch': 0.01}\n",
      "{'loss': 1.2769, 'learning_rate': 0.0001993218040013564, 'epoch': 0.01}\n",
      "{'loss': 1.0401, 'learning_rate': 0.00019898270600203458, 'epoch': 0.02}\n",
      "{'loss': 1.0126, 'learning_rate': 0.0001986436080027128, 'epoch': 0.02}\n",
      "{'loss': 0.9877, 'learning_rate': 0.00019830451000339098, 'epoch': 0.03}\n",
      "{'loss': 0.9136, 'learning_rate': 0.0001979654120040692, 'epoch': 0.03}\n",
      "{'loss': 0.8055, 'learning_rate': 0.00019762631400474737, 'epoch': 0.04}\n",
      "{'loss': 0.8521, 'learning_rate': 0.00019728721600542558, 'epoch': 0.04}\n"
     ]
    },
    {
     "name": "stderr",
     "output_type": "stream",
     "text": [
      "/home/cdsw/.local/lib/python3.9/site-packages/torch/utils/checkpoint.py:429: UserWarning: torch.utils.checkpoint: please pass in use_reentrant=True or use_reentrant=False explicitly. The default value of use_reentrant will be updated to be False in the future. To maintain current behavior, pass use_reentrant=True. It is recommended that you use use_reentrant=False. Refer to docs for more details on the differences between the two variants.\n",
      "  warnings.warn(\n"
     ]
    },
    {
     "name": "stdout",
     "output_type": "stream",
     "text": [
      "{'loss': 0.7954, 'learning_rate': 0.0001969481180061038, 'epoch': 1.0}\n",
      "{'loss': 0.8338, 'learning_rate': 0.00019660902000678197, 'epoch': 1.01}\n",
      "{'loss': 0.829, 'learning_rate': 0.00019626992200746018, 'epoch': 1.01}\n",
      "{'loss': 0.819, 'learning_rate': 0.00019593082400813836, 'epoch': 1.02}\n",
      "{'loss': 0.7047, 'learning_rate': 0.00019559172600881657, 'epoch': 1.02}\n",
      "{'loss': 0.8098, 'learning_rate': 0.00019525262800949476, 'epoch': 1.03}\n",
      "{'loss': 0.7965, 'learning_rate': 0.00019491353001017294, 'epoch': 1.03}\n",
      "{'loss': 0.7758, 'learning_rate': 0.00019457443201085115, 'epoch': 1.04}\n"
     ]
    },
    {
     "name": "stderr",
     "output_type": "stream",
     "text": [
      "/home/cdsw/.local/lib/python3.9/site-packages/torch/utils/checkpoint.py:429: UserWarning: torch.utils.checkpoint: please pass in use_reentrant=True or use_reentrant=False explicitly. The default value of use_reentrant will be updated to be False in the future. To maintain current behavior, pass use_reentrant=True. It is recommended that you use use_reentrant=False. Refer to docs for more details on the differences between the two variants.\n",
      "  warnings.warn(\n"
     ]
    },
    {
     "name": "stdout",
     "output_type": "stream",
     "text": [
      "{'loss': 0.8183, 'learning_rate': 0.00019423533401152933, 'epoch': 2.0}\n",
      "{'loss': 0.7617, 'learning_rate': 0.00019389623601220754, 'epoch': 2.01}\n",
      "{'loss': 0.7363, 'learning_rate': 0.00019355713801288572, 'epoch': 2.01}\n",
      "{'loss': 0.7448, 'learning_rate': 0.00019321804001356393, 'epoch': 2.02}\n",
      "{'loss': 0.7363, 'learning_rate': 0.00019287894201424212, 'epoch': 2.02}\n",
      "{'loss': 0.7029, 'learning_rate': 0.0001925398440149203, 'epoch': 2.03}\n",
      "{'loss': 0.7377, 'learning_rate': 0.0001922007460155985, 'epoch': 2.03}\n",
      "{'loss': 0.7109, 'learning_rate': 0.00019186164801627672, 'epoch': 2.04}\n",
      "{'train_runtime': 502.6616, 'train_samples_per_second': 46.898, 'train_steps_per_second': 5.867, 'train_loss': 0.8594541530298992, 'epoch': 2.04}\n",
      "Training Done\n"
     ]
    }
   ],
   "source": [
    "print(\"Start Fine-Tuning\")\n",
    "mlflow.set_experiment(\"Fine-tune TRL\")\n",
    "trainer.train()\n",
    "print(\"Training Done\")"
   ]
  },
  {
   "cell_type": "code",
   "execution_count": 14,
   "id": "4606bc87-0c5c-4d1a-a055-36de4662d4bf",
   "metadata": {},
   "outputs": [
    {
     "name": "stdout",
     "output_type": "stream",
     "text": [
      "Model Saved\n"
     ]
    }
   ],
   "source": [
    "# save model\n",
    "trainer.save_model() # adapter models\n",
    "print(\"Model Saved\")"
   ]
  },
  {
   "cell_type": "code",
   "execution_count": 15,
   "id": "bb02abf4-310a-47c5-bb8c-2a308a313770",
   "metadata": {},
   "outputs": [
    {
     "data": {
      "text/plain": [
       "('merged_ft_model/tokenizer_config.json',\n",
       " 'merged_ft_model/special_tokens_map.json',\n",
       " 'merged_ft_model/vocab.json',\n",
       " 'merged_ft_model/merges.txt',\n",
       " 'merged_ft_model/added_tokens.json',\n",
       " 'merged_ft_model/tokenizer.json')"
      ]
     },
     "execution_count": 15,
     "metadata": {},
     "output_type": "execute_result"
    }
   ],
   "source": [
    "trained_model = AutoPeftModelForCausalLM.from_pretrained(\n",
    "    trainingArgs.output_dir,\n",
    "    return_dict=True,\n",
    "    device_map=device_map\n",
    ")\n",
    "\n",
    "# Merge LoRA adapter with the base model and save the merged model\n",
    "lora_merged_model = trained_model.merge_and_unload()\n",
    "lora_merged_model.save_pretrained(merged_model)\n",
    "tokenizer.save_pretrained(merged_model)"
   ]
  },
  {
   "cell_type": "code",
   "execution_count": null,
   "id": "44988095-f076-4c1e-8bc1-d8220ab88b8b",
   "metadata": {},
   "outputs": [],
   "source": [
    "merged_model = \"merged_ft_model\"\n",
    "merged_model = \"quantized_model1\"\n",
    "device_map = \"cuda:0\" if torch.cuda.is_available() else \"cpu\"\n",
    "model_new = AutoModelForCausalLM.from_pretrained(merged_model, device_map=\"auto\")\n",
    "\n",
    "print(f\"{device_map} Memory Used: {model_new.get_memory_footprint() / 1024**2:.4f} MB\")\n",
    "print(\"\\nParameters:\")\n",
    "print_trainable_parameters(model_new)\n",
    "print(\"\\nData types:\")\n",
    "print_param_precision(model_new)"
   ]
  },
  {
   "cell_type": "code",
   "execution_count": null,
   "id": "3241d942-e2a3-4b59-8663-6e12be1ebe4d",
   "metadata": {},
   "outputs": [],
   "source": [
    "trained_model = AutoPeftModelForCausalLM.from_pretrained(\n",
    "    trainingArgs.output_dir,\n",
    "    return_dict=True,\n",
    "    torch_dtype=torch.float16,\n",
    "    device_map=device_map,\n",
    ")\n",
    "\n",
    "# Merge LoRA adapter with the base model and save the merged model\n",
    "lora_merged_model = trained_model.merge_and_unload()\n",
    "lora_merged_model.save_pretrained(merged_model,safe_serialization=True)\n",
    "tokenizer.save_pretrained(merged_model)"
   ]
  },
  {
   "cell_type": "code",
   "execution_count": null,
   "id": "8af01d18-5459-48c7-9f10-84d4e57c0cdc",
   "metadata": {},
   "outputs": [],
   "source": [
    "# Reset the iPython kernel before proceeding with running the following test."
   ]
  },
  {
   "cell_type": "code",
   "execution_count": null,
   "id": "cfb4124f-b17d-40ec-b942-077bfe34364e",
   "metadata": {},
   "outputs": [],
   "source": [
    "import torch\n",
    "from transformers import AutoTokenizer, AutoModelForCausalLM\n",
    "\n",
    "device_map = \"cuda:0\" if torch.cuda.is_available() else \"cpu\"\n",
    "print(device_map)\n",
    "\n",
    "#loaded_models = {}\n",
    "mymodel1 = \"quantized_model1\"\n",
    "ft_tokenizer = AutoTokenizer.from_pretrained(mymodel1,torch_dtype=torch.bfloat16,device_map=device_map)\n",
    "ft_model = AutoModelForCausalLM.from_pretrained(mymodel1,torch_dtype=torch.bfloat16,device_map=device_map)\n",
    "#loaded_models[mymodel1] = {\"tokenizer\": tokenizer1, \"model\": model1}\n",
    "#tokenizer1 = loaded_models[mymodel1][\"tokenizer\"]\n",
    "#base_model = loaded_models[mymodel1][\"model\"]\n",
    "\n",
    "#loaded_models = {}\n",
    "base_model = \"codegen-350M-multi\"\n",
    "base_tokenizer = AutoTokenizer.from_pretrained(base_model,torch_dtype=torch.bfloat16,device_map=device_map)\n",
    "base_model = AutoModelForCausalLM.from_pretrained(base_model,torch_dtype=torch.bfloat16,device_map=device_map)\n",
    "#loaded_models[mymodel2] = {\"tokenizer\": tokenizer, \"model\": model}\n",
    "#tokenizer2 = loaded_models[mymodel2][\"tokenizer\"]\n",
    "#lora_merged_model = loaded_models[mymodel2][\"model\"]"
   ]
  },
  {
   "cell_type": "code",
   "execution_count": null,
   "id": "1995eacc-f93b-46de-8ba1-dd28c0a0db25",
   "metadata": {},
   "outputs": [],
   "source": [
    "mytask=\"CREATE TABLE trip (bus_stop VARCHAR, duration INTEGER), list all the bus stops from which a trip of duration below 100 started.\"\n",
    "prompt = f\"\"\"\n",
    "# Instruction:\n",
    "Use the context below to produce the result\n",
    "# context:\n",
    "{mytask}\n",
    "# result:\n",
    "\"\"\"\n",
    "\n",
    "input_id1 = ft_tokenizer.encode(prompt, return_tensors=\"pt\").to(device_map)\n",
    "input_id2 = base_tokenizer.encode(prompt, return_tensors=\"pt\").to(device_map)\n",
    "attention_mask1 = torch.ones(input_id1.shape, dtype=torch.long).to(device_map)\n",
    "attention_mask2 = torch.ones(input_id2.shape, dtype=torch.long).to(device_map)\n",
    "print(f\"--------------------------------------\\n\")\n",
    "print(f\"Prompt:\\n{prompt}\\n\")\n",
    "print(f\"--------------------------------------\\n\")\n",
    "\n",
    "print(f\"Fine-tuned Model Result :\\n\")\n",
    "output_base = ft_model.generate(input_ids=input_id1, do_sample=True, max_new_tokens=100, top_p=0.9,temperature=0.5,attention_mask=attention_mask1)\n",
    "print(f\"{ft_tokenizer.batch_decode(output_base.detach().cpu().numpy(), skip_special_tokens=True)[0][len(prompt):]}\")\n",
    "print(f\"--------------------------------------\\n\")\n",
    "\n",
    "print(f\"Base Model Result :\\n\")\n",
    "output_ft = base_model.generate(input_ids=input_id2, do_sample=True, max_new_tokens=100, top_p=0.9,temperature=0.5,attention_mask=attention_mask2)\n",
    "print(f\"{base_tokenizer.batch_decode(output_ft.detach().cpu().numpy(), skip_special_tokens=True)[0][len(prompt):]}\")"
   ]
  },
  {
   "cell_type": "code",
   "execution_count": null,
   "id": "01fdf275-bce5-40bf-ba15-efb39ddf8e20",
   "metadata": {},
   "outputs": [],
   "source": []
  }
 ],
 "metadata": {
  "kernelspec": {
   "display_name": "Python 3 (ipykernel)",
   "language": "python",
   "name": "python3"
  },
  "language_info": {
   "codemirror_mode": {
    "name": "ipython",
    "version": 3
   },
   "file_extension": ".py",
   "mimetype": "text/x-python",
   "name": "python",
   "nbconvert_exporter": "python",
   "pygments_lexer": "ipython3",
   "version": "3.9.11"
  }
 },
 "nbformat": 4,
 "nbformat_minor": 5
}
