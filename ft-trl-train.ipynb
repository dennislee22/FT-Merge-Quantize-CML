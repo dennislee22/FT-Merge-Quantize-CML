{
 "cells": [
  {
   "cell_type": "code",
   "execution_count": null,
   "id": "d4e87c27-4e38-457c-937f-f95c2ad70f64",
   "metadata": {},
   "outputs": [],
   "source": [
    "from datasets import load_dataset\n",
    "from random import randrange\n",
    "import torch\n",
    "from transformers import AutoTokenizer, AutoModelForCausalLM, BitsAndBytesConfig, TrainingArguments\n",
    "from peft import LoraConfig, prepare_model_for_kbit_training, get_peft_model, AutoPeftModelForCausalLM\n",
    "from trl import SFTTrainer\n",
    "import mlflow\n",
    "import shutil\n",
    "from os.path import dirname"
   ]
  },
  {
   "cell_type": "code",
   "execution_count": null,
   "id": "952c8054-f623-4c5d-a09e-226c4e6506cb",
   "metadata": {},
   "outputs": [],
   "source": [
    "def remove_dir(dir_path):\n",
    "    try:\n",
    "        shutil.rmtree(dir_path)\n",
    "        print(f\"Folder '{dir_path}' has been deleted.\")\n",
    "    except Exception as e:\n",
    "        # Ignore errors, you can print a message if needed\n",
    "        print(f\"Folder '{dir_path}' has been deleted.\")\n",
    "\n",
    "#model_name = \"Salesforce/codegen-350M-multi\"\n",
    "base_model = \"codegen-350M-multi\"  #Remember to apply this value in the argument parameter of tokenizer, to use local folder instead of attempting to download from HF\n",
    "merged_model = \"merged_ft_model\"\n",
    "training_output = \"training_output\"\n",
    "dataset_name = \"Shreyasrp/Text-to-SQL\"\n",
    "split = \"train[:10%]\"\n",
    "device_map = \"cuda:0\" if torch.cuda.is_available() else \"cpu\"\n",
    "print(f\"Device to be used is {device_map}\")\n",
    "print(f\"--------------------------------------\\n\")\n",
    "# Remove the model folders if exist\n",
    "remove_dir(training_output) \n",
    "remove_dir(merged_model)"
   ]
  },
  {
   "cell_type": "code",
   "execution_count": null,
   "id": "3f3095a9-d0db-43d2-85a1-c7a1107da81e",
   "metadata": {},
   "outputs": [],
   "source": [
    "# BitsAndBytesConfig config\n",
    "bnb_config = BitsAndBytesConfig(\n",
    "    load_in_4bit=True,\n",
    "    bnb_4bit_use_double_quant=True,\n",
    "    bnb_4bit_quant_type=\"nf4\",\n",
    "    bnb_4bit_compute_dtype=\"float16\"\n",
    ")\n",
    "\n",
    "peft_config = LoraConfig(\n",
    "      r=16,\n",
    "      lora_alpha=32,\n",
    "      lora_dropout=0.05,\n",
    "      bias=\"none\",\n",
    "      task_type=\"CAUSAL_LM\",\n",
    ")\n",
    "\n",
    "def prompt_instruction_format(sample):\n",
    "  return f\"\"\"Context:\n",
    "    {sample['instruction']}\n",
    "\n",
    "    Result:\n",
    "    {sample['output']}\n",
    "    \"\"\""
   ]
  },
  {
   "cell_type": "code",
   "execution_count": null,
   "id": "d39b254e-d531-42b0-a670-e2ac3f023838",
   "metadata": {},
   "outputs": [],
   "source": [
    "dataset = load_dataset(dataset_name, split=split)"
   ]
  },
  {
   "cell_type": "code",
   "execution_count": null,
   "id": "ee3f90cd-fda8-412d-84c8-64b77bd466aa",
   "metadata": {},
   "outputs": [],
   "source": [
    "base_model = AutoModelForCausalLM.from_pretrained(base_model, quantization_config=bnb_config, use_cache = False, device_map=device_map)"
   ]
  },
  {
   "cell_type": "code",
   "execution_count": null,
   "id": "bfe9569b-dc2b-45ed-bd80-c4743018af4e",
   "metadata": {},
   "outputs": [],
   "source": [
    "tokenizer = AutoTokenizer.from_pretrained('codegen-350M-multi')\n",
    "tokenizer.pad_token = tokenizer.eos_token\n",
    "tokenizer.padding_side = 'right'\n",
    "tokenizer.deprecation_warnings[\"Asking-to-pad-a-fast-tokenizer\"] = True"
   ]
  },
  {
   "cell_type": "code",
   "execution_count": null,
   "id": "4b1a441c-b12c-4ac6-b0bb-bdc74f232eee",
   "metadata": {},
   "outputs": [],
   "source": [
    "trainingArgs = TrainingArguments(\n",
    "    output_dir=training_output,\n",
    "    num_train_epochs=3,\n",
    "    #per_device_train_batch_size=4,\n",
    "    auto_find_batch_size=True,\n",
    "    gradient_accumulation_steps=2,\n",
    "    gradient_checkpointing=True,\n",
    "    optim=\"paged_adamw_32bit\",\n",
    "    logging_steps=5,\n",
    "    save_strategy=\"epoch\",\n",
    "    learning_rate=2e-4,\n",
    "    fp16=False,\n",
    "    bf16=False,\n",
    "    group_by_length=False,\n",
    "    lr_scheduler_type=\"cosine\",\n",
    "    disable_tqdm=True,\n",
    "    seed=42\n",
    ")\n",
    "\n",
    "trainer = SFTTrainer(\n",
    "    model=base_model,\n",
    "    train_dataset=dataset,\n",
    "    peft_config=peft_config,\n",
    "    max_seq_length=2048,\n",
    "    tokenizer=tokenizer,\n",
    "    packing=True,\n",
    "    formatting_func=prompt_instruction_format,\n",
    "    args=trainingArgs,\n",
    ")"
   ]
  },
  {
   "cell_type": "code",
   "execution_count": null,
   "id": "bb31ce3f-912d-43f3-a084-5e15557cef6b",
   "metadata": {},
   "outputs": [],
   "source": [
    "print(\"Start Fine-Tuning\")\n",
    "mlflow.set_experiment(\"Fine-tune TRL\")\n",
    "trainer.train()\n",
    "print(\"Training Done\")\n",
    "\n",
    "# save model\n",
    "trainer.save_model()\n",
    "print(\"Model Saved\")"
   ]
  },
  {
   "cell_type": "code",
   "execution_count": null,
   "id": "3241d942-e2a3-4b59-8663-6e12be1ebe4d",
   "metadata": {},
   "outputs": [],
   "source": [
    "trained_model = AutoPeftModelForCausalLM.from_pretrained(\n",
    "    trainingArgs.output_dir,\n",
    "    return_dict=True,\n",
    "    torch_dtype=torch.float16,\n",
    "    device_map=device_map,\n",
    ")\n",
    "\n",
    "# Merge LoRA adapter with the base model and save the merged model\n",
    "lora_merged_model = trained_model.merge_and_unload()\n",
    "lora_merged_model.save_pretrained(merged_model,safe_serialization=True)\n",
    "tokenizer.save_pretrained(merged_model)"
   ]
  },
  {
   "cell_type": "code",
   "execution_count": null,
   "id": "8af01d18-5459-48c7-9f10-84d4e57c0cdc",
   "metadata": {},
   "outputs": [],
   "source": [
    "# Reset the iPython kernel before proceeding with running the following test."
   ]
  },
  {
   "cell_type": "code",
   "execution_count": null,
   "id": "cfb4124f-b17d-40ec-b942-077bfe34364e",
   "metadata": {},
   "outputs": [],
   "source": [
    "import torch\n",
    "from transformers import AutoTokenizer, AutoModelForCausalLM\n",
    "\n",
    "device_map = \"cuda:0\" if torch.cuda.is_available() else \"cpu\"\n",
    "print(device_map)\n",
    "\n",
    "#loaded_models = {}\n",
    "#mymodel1 = \"merged_ft_model\"\n",
    "ft_tokenizer = AutoTokenizer.from_pretrained('merged_ft_model',torch_dtype=torch.bfloat16,device_map=device_map)\n",
    "ft_model = AutoModelForCausalLM.from_pretrained('merged_ft_model',torch_dtype=torch.bfloat16,device_map=device_map)\n",
    "#loaded_models[mymodel1] = {\"tokenizer\": tokenizer1, \"model\": model1}\n",
    "#tokenizer1 = loaded_models[mymodel1][\"tokenizer\"]\n",
    "#base_model = loaded_models[mymodel1][\"model\"]\n",
    "\n",
    "#loaded_models = {}\n",
    "#mymodel2 = base_model\n",
    "base_tokenizer = AutoTokenizer.from_pretrained('codegen-350M-multi',torch_dtype=torch.bfloat16,device_map=device_map)\n",
    "base_model = AutoModelForCausalLM.from_pretrained('codegen-350M-multi',torch_dtype=torch.bfloat16,device_map=device_map)\n",
    "#loaded_models[mymodel2] = {\"tokenizer\": tokenizer, \"model\": model}\n",
    "#tokenizer2 = loaded_models[mymodel2][\"tokenizer\"]\n",
    "#lora_merged_model = loaded_models[mymodel2][\"model\"]"
   ]
  },
  {
   "cell_type": "code",
   "execution_count": null,
   "id": "1995eacc-f93b-46de-8ba1-dd28c0a0db25",
   "metadata": {},
   "outputs": [],
   "source": [
    "mytask=\"CREATE TABLE trip (bus_stop VARCHAR, duration INTEGER), list all the bus stops from which a trip of duration below 100 started.\"\n",
    "prompt = f\"\"\"\n",
    "# Instruction:\n",
    "Use the context below to produce the result\n",
    "# context:\n",
    "{mytask}\n",
    "# result:\n",
    "\"\"\"\n",
    "\n",
    "input_id1 = ft_tokenizer.encode(prompt, return_tensors=\"pt\").to(device_map)\n",
    "input_id2 = base_tokenizer.encode(prompt, return_tensors=\"pt\").to(device_map)\n",
    "attention_mask1 = torch.ones(input_id1.shape, dtype=torch.long).to(device_map)\n",
    "attention_mask2 = torch.ones(input_id2.shape, dtype=torch.long).to(device_map)\n",
    "print(f\"--------------------------------------\\n\")\n",
    "print(f\"Prompt:\\n{prompt}\\n\")\n",
    "print(f\"--------------------------------------\\n\")\n",
    "\n",
    "print(f\"Fine-tuned Model Result :\\n\")\n",
    "output_base = ft_model.generate(input_ids=input_id1, do_sample=True, max_new_tokens=100, top_p=0.9,temperature=0.5,attention_mask=attention_mask1)\n",
    "print(f\"{ft_tokenizer.batch_decode(output_base.detach().cpu().numpy(), skip_special_tokens=True)[0][len(prompt):]}\")\n",
    "print(f\"--------------------------------------\\n\")\n",
    "\n",
    "print(f\"Base Model Result :\\n\")\n",
    "output_ft = base_model.generate(input_ids=input_id2, do_sample=True, max_new_tokens=100, top_p=0.9,temperature=0.5,attention_mask=attention_mask2)\n",
    "print(f\"{base_tokenizer.batch_decode(output_ft.detach().cpu().numpy(), skip_special_tokens=True)[0][len(prompt):]}\")"
   ]
  }
 ],
 "metadata": {
  "kernelspec": {
   "display_name": "Python 3 (ipykernel)",
   "language": "python",
   "name": "python3"
  },
  "language_info": {
   "codemirror_mode": {
    "name": "ipython",
    "version": 3
   },
   "file_extension": ".py",
   "mimetype": "text/x-python",
   "name": "python",
   "nbconvert_exporter": "python",
   "pygments_lexer": "ipython3",
   "version": "3.9.11"
  }
 },
 "nbformat": 4,
 "nbformat_minor": 5
}
