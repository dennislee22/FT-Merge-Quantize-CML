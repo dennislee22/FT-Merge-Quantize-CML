{
 "cells": [
  {
   "cell_type": "code",
   "execution_count": null,
   "id": "c535c4c6-b2d2-4797-a6c0-082dbb6c4067",
   "metadata": {},
   "outputs": [],
   "source": [
    "from datasets import load_dataset\n",
    "import torch\n",
    "import time\n",
    "from transformers import AutoTokenizer, AutoModelForCausalLM, BitsAndBytesConfig, GPTQConfig"
   ]
  },
  {
   "cell_type": "code",
   "execution_count": null,
   "id": "32f728e3-1ad8-41a6-a4e8-37574391ba74",
   "metadata": {},
   "outputs": [],
   "source": [
    "prequantized_model = \"merged_falcon-7b\"\n",
    "quantized_name = \"gptq-merged_falcon-7b_8bit\" #change the suffix name\n",
    "tokenizer = AutoTokenizer.from_pretrained(prequantized_model)\n",
    "device_map = \"cuda:0\" if torch.cuda.is_available() else \"cpu\"\n",
    "print(device_map)\n",
    "quantization_config = GPTQConfig(bits=8, #change the bits size accordingly.\n",
    "                                 dataset = \"c4\", \n",
    "                                 tokenizer=tokenizer, \n",
    "                                 disable_exllama=True) #True if use Falcon model."
   ]
  },
  {
   "cell_type": "code",
   "execution_count": null,
   "id": "3ac2637b-13ce-4aed-8c62-8c0ffc73df11",
   "metadata": {},
   "outputs": [],
   "source": [
    "start = time.time()\n",
    "quantized_model = AutoModelForCausalLM.from_pretrained(prequantized_model, device_map=device_map, quantization_config=quantization_config)\n",
    "end = time.time()\n",
    "print(\"Total Seconds Taken to Quantize Using \" + str(device_map) +\": {}\".format(end - start))"
   ]
  },
  {
   "cell_type": "code",
   "execution_count": null,
   "id": "3f4af3f2-d434-4d3b-ac7e-1d11e18043a2",
   "metadata": {},
   "outputs": [],
   "source": [
    "quantized_model.to(\"cpu\")\n",
    "quantized_model.save_pretrained(quantized_name)"
   ]
  },
  {
   "cell_type": "code",
   "execution_count": null,
   "id": "c42e1c6a-7952-4dcd-8572-4b2d95b245d8",
   "metadata": {},
   "outputs": [],
   "source": [
    "tokenizer.save_pretrained(quantized_name)"
   ]
  },
  {
   "cell_type": "code",
   "execution_count": null,
   "id": "e344fe6a-3a14-4f4e-b74e-984e3d7a3069",
   "metadata": {},
   "outputs": [],
   "source": [
    "# Reset the iPython kernel before running other code."
   ]
  }
 ],
 "metadata": {
  "kernelspec": {
   "display_name": "Python 3 (ipykernel)",
   "language": "python",
   "name": "python3"
  },
  "language_info": {
   "codemirror_mode": {
    "name": "ipython",
    "version": 3
   },
   "file_extension": ".py",
   "mimetype": "text/x-python",
   "name": "python",
   "nbconvert_exporter": "python",
   "pygments_lexer": "ipython3",
   "version": "3.9.11"
  }
 },
 "nbformat": 4,
 "nbformat_minor": 5
}
